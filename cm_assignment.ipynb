{
  "nbformat": 4,
  "nbformat_minor": 0,
  "metadata": {
    "colab": {
      "provenance": []
    },
    "kernelspec": {
      "name": "python3",
      "display_name": "Python 3"
    },
    "language_info": {
      "name": "python"
    }
  },
  "cells": [
    {
      "cell_type": "code",
      "execution_count": 1,
      "metadata": {
        "colab": {
          "base_uri": "https://localhost:8080/"
        },
        "id": "z34cy9gE7Va4",
        "outputId": "c9314ceb-0df2-4a1c-c105-0c8a37d54c9a"
      },
      "outputs": [
        {
          "output_type": "stream",
          "name": "stdout",
          "text": [
            "Collecting fhirpy\n",
            "  Downloading fhirpy-2.0.11-py3-none-any.whl.metadata (28 kB)\n",
            "Requirement already satisfied: requests>=2.25.1 in /usr/local/lib/python3.10/dist-packages (from fhirpy) (2.32.3)\n",
            "Requirement already satisfied: aiohttp>=3.6.3 in /usr/local/lib/python3.10/dist-packages (from fhirpy) (3.10.5)\n",
            "Requirement already satisfied: pytz in /usr/local/lib/python3.10/dist-packages (from fhirpy) (2024.2)\n",
            "Requirement already satisfied: typing-extensions in /usr/local/lib/python3.10/dist-packages (from fhirpy) (4.12.2)\n",
            "Requirement already satisfied: aiohappyeyeballs>=2.3.0 in /usr/local/lib/python3.10/dist-packages (from aiohttp>=3.6.3->fhirpy) (2.4.0)\n",
            "Requirement already satisfied: aiosignal>=1.1.2 in /usr/local/lib/python3.10/dist-packages (from aiohttp>=3.6.3->fhirpy) (1.3.1)\n",
            "Requirement already satisfied: attrs>=17.3.0 in /usr/local/lib/python3.10/dist-packages (from aiohttp>=3.6.3->fhirpy) (24.2.0)\n",
            "Requirement already satisfied: frozenlist>=1.1.1 in /usr/local/lib/python3.10/dist-packages (from aiohttp>=3.6.3->fhirpy) (1.4.1)\n",
            "Requirement already satisfied: multidict<7.0,>=4.5 in /usr/local/lib/python3.10/dist-packages (from aiohttp>=3.6.3->fhirpy) (6.1.0)\n",
            "Requirement already satisfied: yarl<2.0,>=1.0 in /usr/local/lib/python3.10/dist-packages (from aiohttp>=3.6.3->fhirpy) (1.11.1)\n",
            "Requirement already satisfied: async-timeout<5.0,>=4.0 in /usr/local/lib/python3.10/dist-packages (from aiohttp>=3.6.3->fhirpy) (4.0.3)\n",
            "Requirement already satisfied: charset-normalizer<4,>=2 in /usr/local/lib/python3.10/dist-packages (from requests>=2.25.1->fhirpy) (3.3.2)\n",
            "Requirement already satisfied: idna<4,>=2.5 in /usr/local/lib/python3.10/dist-packages (from requests>=2.25.1->fhirpy) (3.10)\n",
            "Requirement already satisfied: urllib3<3,>=1.21.1 in /usr/local/lib/python3.10/dist-packages (from requests>=2.25.1->fhirpy) (2.2.3)\n",
            "Requirement already satisfied: certifi>=2017.4.17 in /usr/local/lib/python3.10/dist-packages (from requests>=2.25.1->fhirpy) (2024.8.30)\n",
            "Downloading fhirpy-2.0.11-py3-none-any.whl (28 kB)\n",
            "Installing collected packages: fhirpy\n",
            "Successfully installed fhirpy-2.0.11\n"
          ]
        }
      ],
      "source": [
        "!pip install fhirpy"
      ]
    },
    {
      "cell_type": "code",
      "source": [
        "from fhirpy import SyncFHIRClient"
      ],
      "metadata": {
        "id": "sNubg3Gn7rXR"
      },
      "execution_count": 2,
      "outputs": []
    },
    {
      "cell_type": "code",
      "source": [
        "client = SyncFHIRClient('https://server.fire.ly')\n"
      ],
      "metadata": {
        "id": "chCgUkg370nO"
      },
      "execution_count": 3,
      "outputs": []
    },
    {
      "cell_type": "code",
      "source": [
        "\n",
        "patient = client.resource(\n",
        "    'Patient',\n",
        "    name=[{'family': 'Sharma', 'given': ['Priya']}],\n",
        "    gender='female',\n",
        "    birthDate='1995-03-21',\n",
        "    address=[{'line': ['123 Main St'], 'city': 'Mumbai', 'country': 'India'}],\n",
        "    identifier=[{'system': 'http://hospital.smarthealth.org', 'value': 'PRIYA123'}],\n",
        "    telecom=[{'system': 'phone', 'value': '+91-9876543210'}]\n",
        ")\n",
        "patient.save()\n",
        "print(f\"Patient created with ID: {patient['id']}\")"
      ],
      "metadata": {
        "colab": {
          "base_uri": "https://localhost:8080/"
        },
        "id": "GT6B6d2A72z4",
        "outputId": "b3e1c272-8dec-414c-9084-c448be94522c"
      },
      "execution_count": 4,
      "outputs": [
        {
          "output_type": "stream",
          "name": "stdout",
          "text": [
            "Patient created with ID: d44d12a3-2205-4515-89e8-fa3094647a01\n"
          ]
        }
      ]
    },
    {
      "cell_type": "code",
      "source": [
        "# Create a Condition resource for AML diagnosis without 'verificationStatus'\n",
        "aml_condition = client.resource(\n",
        "    'Condition',\n",
        "    subject={'reference': f'Patient/{patient[\"id\"]}'},\n",
        "    code={'coding': [{'system': 'http://hl7.org/fhir/sid/icd-10', 'code': 'C92.0', 'display': 'Acute Myeloid Leukemia'}]},\n",
        "    clinicalStatus={'coding': [{'system': 'http://terminology.hl7.org/CodeSystem/condition-clinical', 'code': 'active'}]},\n",
        "    onsetDateTime='2024-09-01'\n",
        ")\n",
        "aml_condition.save()\n",
        "print(f\"Condition created for AML with ID: {aml_condition['id']}\")\n"
      ],
      "metadata": {
        "colab": {
          "base_uri": "https://localhost:8080/"
        },
        "id": "dfS-cjhS75Oy",
        "outputId": "6310543a-c2b1-4abb-c37c-62e29ff77e06"
      },
      "execution_count": 5,
      "outputs": [
        {
          "output_type": "stream",
          "name": "stdout",
          "text": [
            "Condition created for AML with ID: 3785ecb1-97aa-4b2c-98f9-2fee2ac53b68\n"
          ]
        }
      ]
    },
    {
      "cell_type": "code",
      "source": [
        "# Step 4: Create an Observation resource for lab results\n",
        "wbc_observation = client.resource(\n",
        "    'Observation',\n",
        "    status='final',\n",
        "    category=[{'coding': [{'system': 'http://terminology.hl7.org/CodeSystem/observation-category', 'code': 'laboratory'}]}],\n",
        "    code={'coding': [{'system': 'http://loinc.org', 'code': '6690-2', 'display': 'Leukocytes [#/volume] in Blood'}]},\n",
        "    subject={'reference': f'Patient/{patient[\"id\"]}'},\n",
        "    valueQuantity={'value': 20000, 'unit': 'cells/uL', 'system': 'http://unitsofmeasure.org', 'code': '10*3/uL'},\n",
        "    effectiveDateTime='2024-09-01'\n",
        ")\n",
        "wbc_observation.save()\n",
        "print(f\"WBC Observation created with ID: {wbc_observation['id']}\")\n",
        "\n"
      ],
      "metadata": {
        "colab": {
          "base_uri": "https://localhost:8080/"
        },
        "id": "v0wcPbkv77kv",
        "outputId": "93f9006d-2578-4ea2-94bc-0fb65464cc25"
      },
      "execution_count": 6,
      "outputs": [
        {
          "output_type": "stream",
          "name": "stdout",
          "text": [
            "WBC Observation created with ID: f6501b45-facd-4dd4-b12e-43cc623ca48a\n"
          ]
        }
      ]
    },
    {
      "cell_type": "code",
      "source": [
        "# Step 5: Create a DiagnosticReport resource for the AML diagnostic tests\n",
        "diagnostic_report = client.resource(\n",
        "    'DiagnosticReport',\n",
        "    status='final',\n",
        "    code={'coding': [{'system': 'http://loinc.org', 'code': '34528-0', 'display': 'Bone marrow aspirate report'}]},\n",
        "    subject={'reference': f'Patient/{patient[\"id\"]}'},\n",
        "    result=[{'reference': f'Observation/{wbc_observation[\"id\"]}'}],\n",
        "    conclusion=\"Acute Myeloid Leukemia (AML) confirmed\",\n",
        "    issued='2024-09-01T12:00:00Z'\n",
        ")\n",
        "diagnostic_report.save()\n",
        "print(f\"Diagnostic Report created with ID: {diagnostic_report['id']}\")"
      ],
      "metadata": {
        "colab": {
          "base_uri": "https://localhost:8080/"
        },
        "id": "SqJgMaX78HbK",
        "outputId": "ec3749ea-0d37-417b-b572-3d21bc1da149"
      },
      "execution_count": 7,
      "outputs": [
        {
          "output_type": "stream",
          "name": "stdout",
          "text": [
            "Diagnostic Report created with ID: afa33e3e-7eb9-4125-969f-2aa6780e3712\n"
          ]
        }
      ]
    },
    {
      "cell_type": "code",
      "source": [
        "# 5. Create a CarePlan for AML treatment (chemotherapy)\n",
        "care_plan = client.resource(\n",
        "    'CarePlan',\n",
        "    status='active',\n",
        "    intent='plan',\n",
        "    description='AML treatment plan including chemotherapy',\n",
        "    subject={'reference': f'Patient/{patient[\"id\"]}'},\n",
        "    period={'start': '2024-09-01', 'end': '2025-03-01'},\n",
        "    activity=[{\n",
        "        'detail': {\n",
        "            'code': {'coding': [{'system': 'http://snomed.info/sct', 'code': '367336001', 'display': 'Chemotherapy regimen'}]},\n",
        "\n",
        "            'status': 'not-started'\n",
        "        }\n",
        "    }]\n",
        ")\n",
        "care_plan.save()\n",
        "print(f\"CarePlan for chemotherapy created with ID: {care_plan['id']}\")\n"
      ],
      "metadata": {
        "colab": {
          "base_uri": "https://localhost:8080/"
        },
        "id": "XPy69i-e8J9O",
        "outputId": "38864340-6f1d-4e90-ba2b-685e08856838"
      },
      "execution_count": 8,
      "outputs": [
        {
          "output_type": "stream",
          "name": "stdout",
          "text": [
            "CarePlan for chemotherapy created with ID: bf918ae3-6b75-44eb-902f-1237227cccb2\n"
          ]
        }
      ]
    },
    {
      "cell_type": "code",
      "source": [
        "# 6. Create a CarePlan resource for chemotherapy treatment\n",
        "care_plan = client.resource(\n",
        "    'CarePlan',\n",
        "    subject={'reference': f'Patient/{patient[\"id\"]}'},\n",
        "    status='active',\n",
        "    intent='plan',\n",
        "    title='Chemotherapy Plan for AML',\n",
        "    description='Plan for induction chemotherapy as part of AML treatment',\n",
        "    period={'start': '2024-09-01'},\n",
        "    activity=[{\n",
        "        'detail': {\n",
        "            'code': {\n",
        "                'coding': [{'system': 'http://snomed.info/sct', 'code': '367336001', 'display': 'Chemotherapy regimen'}]\n",
        "            },\n",
        "            'status': 'in-progress',\n",
        "            'scheduledPeriod': {'start': '2024-09-01', 'end': '2024-10-01'}\n",
        "        }\n",
        "    }]\n",
        ")\n",
        "care_plan.save()\n",
        "print(f\"CarePlan for chemotherapy created with ID: {care_plan['id']}\")\n"
      ],
      "metadata": {
        "colab": {
          "base_uri": "https://localhost:8080/"
        },
        "id": "UXpzHWXp8L38",
        "outputId": "e51a6ba7-429b-4db4-89b5-0cd5f58e4ce7"
      },
      "execution_count": 9,
      "outputs": [
        {
          "output_type": "stream",
          "name": "stdout",
          "text": [
            "CarePlan for chemotherapy created with ID: 2d369f3d-b907-4be3-99e7-a0e7cec7efba\n"
          ]
        }
      ]
    },
    {
      "cell_type": "code",
      "source": [
        "# 7. Create a CarePlan resource for chemotherapy treatment\n",
        "care_plan = client.resource(\n",
        "    'CarePlan',\n",
        "    subject={'reference': f'Patient/{patient[\"id\"]}'},\n",
        "    status='active',\n",
        "    intent='plan',\n",
        "    title='Chemotherapy Plan for AML',\n",
        "    description='Plan for induction chemotherapy as part of AML treatment',\n",
        "    period={'start': '2024-09-01'},\n",
        "    activity=[{\n",
        "        'detail': {\n",
        "            'code': {\n",
        "                'coding': [\n",
        "                    {'system': 'http://snomed.info/sct', 'code': '367336001', 'display': 'Chemotherapy regimen'}\n",
        "                ]\n",
        "            },\n",
        "            'status': 'in-progress',\n",
        "            'scheduledPeriod': {'start': '2024-09-01', 'end': '2024-10-01'}\n",
        "        }\n",
        "    }]\n",
        ")\n",
        "\n",
        "care_plan.save()\n",
        "print(f\"CarePlan for chemotherapy created with ID: {care_plan['id']}\")\n"
      ],
      "metadata": {
        "colab": {
          "base_uri": "https://localhost:8080/"
        },
        "id": "pcu8zUKU95JB",
        "outputId": "09203ba1-aa55-4059-f723-96931ff86b0e"
      },
      "execution_count": 10,
      "outputs": [
        {
          "output_type": "stream",
          "name": "stdout",
          "text": [
            "CarePlan for chemotherapy created with ID: 7f71a29a-b2cc-42e3-9d75-46af79021935\n"
          ]
        }
      ]
    },
    {
      "cell_type": "code",
      "source": [
        "# Step 8: Retrieve and update Priya's AML condition to remission\n",
        "condition = client.resources('Condition').search(_id=aml_condition['id']).first()\n",
        "\n",
        "if condition:\n",
        "    condition['clinicalStatus']['coding'][0]['code'] = 'remission'\n",
        "    condition.save()\n",
        "    print(f\"Condition updated: {condition['clinicalStatus']['coding'][0]['code']}\")\n",
        "else:\n",
        "    print(\"Condition not found\")\n",
        "observations = client.resources('Observation').search(subject=f'Patient/{patient[\"id\"]}').fetch()\n",
        "\n",
        "# Print each observation\n",
        "for obs in observations:\n",
        "    print(f\"Observation ID: {obs['id']}, Value: {obs['valueQuantity']['value']} {obs['valueQuantity']['unit']}\")\n",
        "\n"
      ],
      "metadata": {
        "colab": {
          "base_uri": "https://localhost:8080/"
        },
        "id": "skGVQfCj8fsU",
        "outputId": "9b72a6bc-aeda-441a-d568-7e39780f5d59"
      },
      "execution_count": 11,
      "outputs": [
        {
          "output_type": "stream",
          "name": "stdout",
          "text": [
            "Condition updated: remission\n",
            "Observation ID: f6501b45-facd-4dd4-b12e-43cc623ca48a, Value: 20000 cells/uL\n"
          ]
        }
      ]
    },
    {
      "cell_type": "markdown",
      "source": [
        "# Downloading the json"
      ],
      "metadata": {
        "id": "ix8npqSZgfe2"
      }
    },
    {
      "cell_type": "code",
      "source": [
        "import json\n",
        "import os\n",
        "from fhirpy import SyncFHIRClient\n",
        "from google.colab import files"
      ],
      "metadata": {
        "id": "y5pSVXFnecIN"
      },
      "execution_count": 12,
      "outputs": []
    },
    {
      "cell_type": "code",
      "source": [
        "client = SyncFHIRClient('https://server.fire.ly')"
      ],
      "metadata": {
        "id": "0fUCVmFRelKJ"
      },
      "execution_count": 13,
      "outputs": []
    },
    {
      "cell_type": "code",
      "source": [
        "patient_id = '0c3ec788-bac5-4ecf-9dd9-fd263f6ba8c0'\n",
        "patient = client.resources('Patient').search(_id=patient_id).first()\n",
        "if not patient:\n",
        "    print(f\"Patient with ID {patient_id} not found.\")\n",
        "else:\n",
        "    print(f\"Patient found: {patient['id']}\")\n"
      ],
      "metadata": {
        "colab": {
          "base_uri": "https://localhost:8080/"
        },
        "id": "HXXpjQOxeoAD",
        "outputId": "c812b9e2-3226-4fc5-c5ba-bd949e383cd3"
      },
      "execution_count": 14,
      "outputs": [
        {
          "output_type": "stream",
          "name": "stdout",
          "text": [
            "Patient found: 0c3ec788-bac5-4ecf-9dd9-fd263f6ba8c0\n"
          ]
        }
      ]
    },
    {
      "cell_type": "code",
      "source": [
        "save_directory = '/content'\n",
        "os.makedirs(save_directory, exist_ok=True)"
      ],
      "metadata": {
        "id": "GBLGxfh4epmw"
      },
      "execution_count": 15,
      "outputs": []
    },
    {
      "cell_type": "code",
      "source": [
        "\n",
        "patient_id = patient['id']\n",
        "patient = client.resources('Patient').search(_id=patient_id).first()\n",
        "if not patient:\n",
        "    print(f\"Patient with ID {patient_id} not found.\")\n",
        "else:\n",
        "    print(f\"Patient found: {patient['id']}\")\n",
        "conditions = client.resources('Condition').search(subject=f'Patient/{patient_id}').fetch()\n",
        "observations = client.resources('Observation').search(subject=f'Patient/{patient_id}').fetch()\n",
        "diagnostic_reports = client.resources('DiagnosticReport').search(subject=f'Patient/{patient_id}').fetch()\n",
        "care_plans = client.resources('CarePlan').search(subject=f'Patient/{patient_id}').fetch()\n",
        "\n",
        "bundle = {\n",
        "    \"resourceType\": \"Bundle\",\n",
        "    \"type\": \"collection\",\n",
        "    \"entry\": []\n",
        "}\n",
        "if patient:\n",
        "    bundle[\"entry\"].append({\n",
        "        \"fullUrl\": f'Patient/{patient_id}',\n",
        "        \"resource\": patient\n",
        "    })\n",
        "for condition in conditions:\n",
        "    bundle[\"entry\"].append({\n",
        "        \"fullUrl\": f'Condition/{condition[\"id\"]}',\n",
        "        \"resource\": condition\n",
        "    })\n",
        "for observation in observations:\n",
        "    bundle[\"entry\"].append({\n",
        "        \"fullUrl\": f'Observation/{observation[\"id\"]}',\n",
        "        \"resource\": observation\n",
        "    })\n",
        "for report in diagnostic_reports:\n",
        "    bundle[\"entry\"].append({\n",
        "        \"fullUrl\": f'DiagnosticReport/{report[\"id\"]}',\n",
        "        \"resource\": report\n",
        "    })\n",
        "for care_plan in care_plans:\n",
        "    bundle[\"entry\"].append({\n",
        "        \"fullUrl\": f'CarePlan/{care_plan[\"id\"]}',\n",
        "        \"resource\": care_plan\n",
        "    })\n",
        "import json\n",
        "bundle_file_path = 'aml_patient_bundle.json'\n",
        "with open(bundle_file_path, 'w') as bundle_file:\n",
        "    json.dump(bundle, bundle_file, indent=4)\n",
        "print(f\"JSON bundle created and saved to {bundle_file_path}\")\n"
      ],
      "metadata": {
        "colab": {
          "base_uri": "https://localhost:8080/"
        },
        "id": "2B1D2rtye1kh",
        "outputId": "57036f86-cb62-4055-da5d-f5967bbf9d5d"
      },
      "execution_count": 16,
      "outputs": [
        {
          "output_type": "stream",
          "name": "stdout",
          "text": [
            "Patient found: 0c3ec788-bac5-4ecf-9dd9-fd263f6ba8c0\n",
            "JSON bundle created and saved to aml_patient_bundle.json\n"
          ]
        }
      ]
    },
    {
      "cell_type": "code",
      "source": [
        "\n",
        "patient_id = patient['id']\n",
        "fetched_patient = client.resources('Patient').search(_id=patient_id).first()\n",
        "if fetched_patient:\n",
        "    print(\"Patient Details:\")\n",
        "    print(f\"ID: {fetched_patient['id']}\")\n",
        "    print(f\"Name: {', '.join([name['given'][0] + ' ' + name['family'] for name in fetched_patient['name']])}\")\n",
        "    print(f\"Gender: {fetched_patient['gender']}\")\n",
        "    print(f\"Birth Date: {fetched_patient['birthDate']}\")\n",
        "    print(f\"Address: {', '.join([addr['line'][0] + ', ' + addr['city'] for addr in fetched_patient['address']])}\")\n",
        "    print(f\"Contact Number: {', '.join([telecom['value'] for telecom in fetched_patient['telecom'] if telecom['system'] == 'phone'])}\")\n",
        "else:\n",
        "    print(\"Patient not found on the server.\")\n"
      ],
      "metadata": {
        "colab": {
          "base_uri": "https://localhost:8080/"
        },
        "id": "aOzemxGfkG53",
        "outputId": "40311791-b64a-4277-c1da-2456be938b96"
      },
      "execution_count": 17,
      "outputs": [
        {
          "output_type": "stream",
          "name": "stdout",
          "text": [
            "Patient Details:\n",
            "ID: 0c3ec788-bac5-4ecf-9dd9-fd263f6ba8c0\n",
            "Name: Priya Sharma\n",
            "Gender: female\n",
            "Birth Date: 1995-03-21\n",
            "Address: 123 Main St, Mumbai\n",
            "Contact Number: +91-9876543210\n"
          ]
        }
      ]
    },
    {
      "cell_type": "code",
      "source": [],
      "metadata": {
        "id": "RP9OEC4JphoN"
      },
      "execution_count": null,
      "outputs": []
    }
  ]
}